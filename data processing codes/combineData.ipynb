{
 "cells": [
  {
   "cell_type": "code",
   "execution_count": 81,
   "metadata": {},
   "outputs": [],
   "source": [
    "import pandas as pd"
   ]
  },
  {
   "cell_type": "code",
   "execution_count": 83,
   "metadata": {},
   "outputs": [
    {
     "output_type": "execute_result",
     "data": {
      "text/plain": "   Unnamed: 0       code             time_key     open    close     high  \\\n0           0  HK.999010  2019-09-02 09:16:00  25421.0  25394.0  25446.0   \n1           1  HK.999010  2019-09-02 09:17:00  25393.0  25405.0  25420.0   \n2           2  HK.999010  2019-09-02 09:18:00  25403.0  25439.0  25445.0   \n3           3  HK.999010  2019-09-02 09:19:00  25439.0  25477.0  25487.0   \n4           4  HK.999010  2019-09-02 09:20:00  25478.0  25457.0  25487.0   \n\n       low  pe_ratio  turnover_rate  volume    turnover  change_rate  \\\n0  25391.0       0.0            0.0    1648  41876076.0    -0.106211   \n1  25391.0       0.0            0.0     715  18164468.0     0.043317   \n2  25403.0       0.0            0.0     993  25255210.0     0.133832   \n3  25435.0       0.0            0.0    1070  27247199.0     0.149377   \n4  25457.0       0.0            0.0     464  11817580.0    -0.078502   \n\n   last_close  \n0     25523.0  \n1     25394.0  \n2     25405.0  \n3     25439.0  \n4     25477.0  ",
      "text/html": "<div>\n<style scoped>\n    .dataframe tbody tr th:only-of-type {\n        vertical-align: middle;\n    }\n\n    .dataframe tbody tr th {\n        vertical-align: top;\n    }\n\n    .dataframe thead th {\n        text-align: right;\n    }\n</style>\n<table border=\"1\" class=\"dataframe\">\n  <thead>\n    <tr style=\"text-align: right;\">\n      <th></th>\n      <th>Unnamed: 0</th>\n      <th>code</th>\n      <th>time_key</th>\n      <th>open</th>\n      <th>close</th>\n      <th>high</th>\n      <th>low</th>\n      <th>pe_ratio</th>\n      <th>turnover_rate</th>\n      <th>volume</th>\n      <th>turnover</th>\n      <th>change_rate</th>\n      <th>last_close</th>\n    </tr>\n  </thead>\n  <tbody>\n    <tr>\n      <th>0</th>\n      <td>0</td>\n      <td>HK.999010</td>\n      <td>2019-09-02 09:16:00</td>\n      <td>25421.0</td>\n      <td>25394.0</td>\n      <td>25446.0</td>\n      <td>25391.0</td>\n      <td>0.0</td>\n      <td>0.0</td>\n      <td>1648</td>\n      <td>41876076.0</td>\n      <td>-0.106211</td>\n      <td>25523.0</td>\n    </tr>\n    <tr>\n      <th>1</th>\n      <td>1</td>\n      <td>HK.999010</td>\n      <td>2019-09-02 09:17:00</td>\n      <td>25393.0</td>\n      <td>25405.0</td>\n      <td>25420.0</td>\n      <td>25391.0</td>\n      <td>0.0</td>\n      <td>0.0</td>\n      <td>715</td>\n      <td>18164468.0</td>\n      <td>0.043317</td>\n      <td>25394.0</td>\n    </tr>\n    <tr>\n      <th>2</th>\n      <td>2</td>\n      <td>HK.999010</td>\n      <td>2019-09-02 09:18:00</td>\n      <td>25403.0</td>\n      <td>25439.0</td>\n      <td>25445.0</td>\n      <td>25403.0</td>\n      <td>0.0</td>\n      <td>0.0</td>\n      <td>993</td>\n      <td>25255210.0</td>\n      <td>0.133832</td>\n      <td>25405.0</td>\n    </tr>\n    <tr>\n      <th>3</th>\n      <td>3</td>\n      <td>HK.999010</td>\n      <td>2019-09-02 09:19:00</td>\n      <td>25439.0</td>\n      <td>25477.0</td>\n      <td>25487.0</td>\n      <td>25435.0</td>\n      <td>0.0</td>\n      <td>0.0</td>\n      <td>1070</td>\n      <td>27247199.0</td>\n      <td>0.149377</td>\n      <td>25439.0</td>\n    </tr>\n    <tr>\n      <th>4</th>\n      <td>4</td>\n      <td>HK.999010</td>\n      <td>2019-09-02 09:20:00</td>\n      <td>25478.0</td>\n      <td>25457.0</td>\n      <td>25487.0</td>\n      <td>25457.0</td>\n      <td>0.0</td>\n      <td>0.0</td>\n      <td>464</td>\n      <td>11817580.0</td>\n      <td>-0.078502</td>\n      <td>25477.0</td>\n    </tr>\n  </tbody>\n</table>\n</div>"
     },
     "metadata": {},
     "execution_count": 83
    }
   ],
   "source": [
    "df = pd.read_csv('C:\\\\Users\\likaw\\Documents\\GitHub\\data-science\\HSI\\RawData\\\\futu_hsiFuture_1M.csv')\n",
    "df.head()"
   ]
  },
  {
   "cell_type": "code",
   "execution_count": 24,
   "metadata": {},
   "outputs": [
    {
     "output_type": "execute_result",
     "data": {
      "text/plain": "       <Date>    <Time>   <Open>   <High>   <Low>   <Close>   <Volume>\n0  2010-02-01  09:46:00    19930    19933   19888     19903   10610428\n1  2010-02-01  09:47:00    19903    19910   19876     19886    8750880\n2  2010-02-01  09:48:00    19887    19907   19885     19897    5768652\n3  2010-02-01  09:49:00    19897    19915   19897     19898    4120219\n4  2010-02-01  09:50:00    19900    19907   19880     19899    5669464",
      "text/html": "<div>\n<style scoped>\n    .dataframe tbody tr th:only-of-type {\n        vertical-align: middle;\n    }\n\n    .dataframe tbody tr th {\n        vertical-align: top;\n    }\n\n    .dataframe thead th {\n        text-align: right;\n    }\n</style>\n<table border=\"1\" class=\"dataframe\">\n  <thead>\n    <tr style=\"text-align: right;\">\n      <th></th>\n      <th>&lt;Date&gt;</th>\n      <th>&lt;Time&gt;</th>\n      <th>&lt;Open&gt;</th>\n      <th>&lt;High&gt;</th>\n      <th>&lt;Low&gt;</th>\n      <th>&lt;Close&gt;</th>\n      <th>&lt;Volume&gt;</th>\n    </tr>\n  </thead>\n  <tbody>\n    <tr>\n      <th>0</th>\n      <td>2010-02-01</td>\n      <td>09:46:00</td>\n      <td>19930</td>\n      <td>19933</td>\n      <td>19888</td>\n      <td>19903</td>\n      <td>10610428</td>\n    </tr>\n    <tr>\n      <th>1</th>\n      <td>2010-02-01</td>\n      <td>09:47:00</td>\n      <td>19903</td>\n      <td>19910</td>\n      <td>19876</td>\n      <td>19886</td>\n      <td>8750880</td>\n    </tr>\n    <tr>\n      <th>2</th>\n      <td>2010-02-01</td>\n      <td>09:48:00</td>\n      <td>19887</td>\n      <td>19907</td>\n      <td>19885</td>\n      <td>19897</td>\n      <td>5768652</td>\n    </tr>\n    <tr>\n      <th>3</th>\n      <td>2010-02-01</td>\n      <td>09:49:00</td>\n      <td>19897</td>\n      <td>19915</td>\n      <td>19897</td>\n      <td>19898</td>\n      <td>4120219</td>\n    </tr>\n    <tr>\n      <th>4</th>\n      <td>2010-02-01</td>\n      <td>09:50:00</td>\n      <td>19900</td>\n      <td>19907</td>\n      <td>19880</td>\n      <td>19899</td>\n      <td>5669464</td>\n    </tr>\n  </tbody>\n</table>\n</div>"
     },
     "metadata": {},
     "execution_count": 24
    }
   ],
   "source": [
    "df3=pd.read_csv('C:\\\\Users\\likaw\\Documents\\GitHub\\data-science\\HSI\\RawData\\hsi future from youtube.csv')\n",
    "df3.head()"
   ]
  },
  {
   "cell_type": "code",
   "execution_count": 21,
   "metadata": {},
   "outputs": [
    {
     "output_type": "execute_result",
     "data": {
      "text/plain": "              time_key     open     high      low    close\n0  2019-09-02 09:16:00  25421.0  25446.0  25391.0  25394.0\n1  2019-09-02 09:17:00  25393.0  25420.0  25391.0  25405.0\n2  2019-09-02 09:18:00  25403.0  25445.0  25403.0  25439.0\n3  2019-09-02 09:19:00  25439.0  25487.0  25435.0  25477.0\n4  2019-09-02 09:20:00  25478.0  25487.0  25457.0  25457.0",
      "text/html": "<div>\n<style scoped>\n    .dataframe tbody tr th:only-of-type {\n        vertical-align: middle;\n    }\n\n    .dataframe tbody tr th {\n        vertical-align: top;\n    }\n\n    .dataframe thead th {\n        text-align: right;\n    }\n</style>\n<table border=\"1\" class=\"dataframe\">\n  <thead>\n    <tr style=\"text-align: right;\">\n      <th></th>\n      <th>time_key</th>\n      <th>open</th>\n      <th>high</th>\n      <th>low</th>\n      <th>close</th>\n    </tr>\n  </thead>\n  <tbody>\n    <tr>\n      <th>0</th>\n      <td>2019-09-02 09:16:00</td>\n      <td>25421.0</td>\n      <td>25446.0</td>\n      <td>25391.0</td>\n      <td>25394.0</td>\n    </tr>\n    <tr>\n      <th>1</th>\n      <td>2019-09-02 09:17:00</td>\n      <td>25393.0</td>\n      <td>25420.0</td>\n      <td>25391.0</td>\n      <td>25405.0</td>\n    </tr>\n    <tr>\n      <th>2</th>\n      <td>2019-09-02 09:18:00</td>\n      <td>25403.0</td>\n      <td>25445.0</td>\n      <td>25403.0</td>\n      <td>25439.0</td>\n    </tr>\n    <tr>\n      <th>3</th>\n      <td>2019-09-02 09:19:00</td>\n      <td>25439.0</td>\n      <td>25487.0</td>\n      <td>25435.0</td>\n      <td>25477.0</td>\n    </tr>\n    <tr>\n      <th>4</th>\n      <td>2019-09-02 09:20:00</td>\n      <td>25478.0</td>\n      <td>25487.0</td>\n      <td>25457.0</td>\n      <td>25457.0</td>\n    </tr>\n  </tbody>\n</table>\n</div>"
     },
     "metadata": {},
     "execution_count": 21
    }
   ],
   "source": [
    "df=df[['time_key','open','high','low','close']]\n",
    "df.head()"
   ]
  },
  {
   "cell_type": "code",
   "execution_count": 22,
   "metadata": {},
   "outputs": [
    {
     "output_type": "execute_result",
     "data": {
      "text/plain": "         date      time\n0  2019-09-02  09:16:00\n1  2019-09-02  09:17:00\n2  2019-09-02  09:18:00\n3  2019-09-02  09:19:00\n4  2019-09-02  09:20:00",
      "text/html": "<div>\n<style scoped>\n    .dataframe tbody tr th:only-of-type {\n        vertical-align: middle;\n    }\n\n    .dataframe tbody tr th {\n        vertical-align: top;\n    }\n\n    .dataframe thead th {\n        text-align: right;\n    }\n</style>\n<table border=\"1\" class=\"dataframe\">\n  <thead>\n    <tr style=\"text-align: right;\">\n      <th></th>\n      <th>date</th>\n      <th>time</th>\n    </tr>\n  </thead>\n  <tbody>\n    <tr>\n      <th>0</th>\n      <td>2019-09-02</td>\n      <td>09:16:00</td>\n    </tr>\n    <tr>\n      <th>1</th>\n      <td>2019-09-02</td>\n      <td>09:17:00</td>\n    </tr>\n    <tr>\n      <th>2</th>\n      <td>2019-09-02</td>\n      <td>09:18:00</td>\n    </tr>\n    <tr>\n      <th>3</th>\n      <td>2019-09-02</td>\n      <td>09:19:00</td>\n    </tr>\n    <tr>\n      <th>4</th>\n      <td>2019-09-02</td>\n      <td>09:20:00</td>\n    </tr>\n  </tbody>\n</table>\n</div>"
     },
     "metadata": {},
     "execution_count": 22
    }
   ],
   "source": [
    "df4=pd.DataFrame(df.time_key.str.split(' ',1).tolist(),columns=['date','time'])\n",
    "df4.head()"
   ]
  },
  {
   "cell_type": "code",
   "execution_count": 23,
   "metadata": {},
   "outputs": [
    {
     "output_type": "execute_result",
     "data": {
      "text/plain": "         date      time     open     high      low    close\n0  2019-09-02  09:16:00  25421.0  25446.0  25391.0  25394.0\n1  2019-09-02  09:17:00  25393.0  25420.0  25391.0  25405.0\n2  2019-09-02  09:18:00  25403.0  25445.0  25403.0  25439.0\n3  2019-09-02  09:19:00  25439.0  25487.0  25435.0  25477.0\n4  2019-09-02  09:20:00  25478.0  25487.0  25457.0  25457.0",
      "text/html": "<div>\n<style scoped>\n    .dataframe tbody tr th:only-of-type {\n        vertical-align: middle;\n    }\n\n    .dataframe tbody tr th {\n        vertical-align: top;\n    }\n\n    .dataframe thead th {\n        text-align: right;\n    }\n</style>\n<table border=\"1\" class=\"dataframe\">\n  <thead>\n    <tr style=\"text-align: right;\">\n      <th></th>\n      <th>date</th>\n      <th>time</th>\n      <th>open</th>\n      <th>high</th>\n      <th>low</th>\n      <th>close</th>\n    </tr>\n  </thead>\n  <tbody>\n    <tr>\n      <th>0</th>\n      <td>2019-09-02</td>\n      <td>09:16:00</td>\n      <td>25421.0</td>\n      <td>25446.0</td>\n      <td>25391.0</td>\n      <td>25394.0</td>\n    </tr>\n    <tr>\n      <th>1</th>\n      <td>2019-09-02</td>\n      <td>09:17:00</td>\n      <td>25393.0</td>\n      <td>25420.0</td>\n      <td>25391.0</td>\n      <td>25405.0</td>\n    </tr>\n    <tr>\n      <th>2</th>\n      <td>2019-09-02</td>\n      <td>09:18:00</td>\n      <td>25403.0</td>\n      <td>25445.0</td>\n      <td>25403.0</td>\n      <td>25439.0</td>\n    </tr>\n    <tr>\n      <th>3</th>\n      <td>2019-09-02</td>\n      <td>09:19:00</td>\n      <td>25439.0</td>\n      <td>25487.0</td>\n      <td>25435.0</td>\n      <td>25477.0</td>\n    </tr>\n    <tr>\n      <th>4</th>\n      <td>2019-09-02</td>\n      <td>09:20:00</td>\n      <td>25478.0</td>\n      <td>25487.0</td>\n      <td>25457.0</td>\n      <td>25457.0</td>\n    </tr>\n  </tbody>\n</table>\n</div>"
     },
     "metadata": {},
     "execution_count": 23
    }
   ],
   "source": [
    "df=df4.join(df).drop(['time_key'],axis=1)\n",
    "df.head()"
   ]
  },
  {
   "cell_type": "code",
   "execution_count": 25,
   "metadata": {},
   "outputs": [
    {
     "output_type": "execute_result",
     "data": {
      "text/plain": "Index(['<Date>', ' <Time>', ' <Open>', ' <High>', ' <Low>', ' <Close>'], dtype='object')"
     },
     "metadata": {},
     "execution_count": 25
    }
   ],
   "source": [
    "df5=df3.drop([' <Volume>'],axis=1)\n",
    "df5.columns"
   ]
  },
  {
   "cell_type": "code",
   "execution_count": 26,
   "metadata": {},
   "outputs": [],
   "source": [
    "df6=df5.drop(df5[df5['<Date>']=='2019-09-02'].index)"
   ]
  },
  {
   "cell_type": "code",
   "execution_count": 27,
   "metadata": {},
   "outputs": [
    {
     "output_type": "execute_result",
     "data": {
      "text/plain": "       <Date>    <Time>   <Open>   <High>   <Low>   <Close>\n0  2010-02-01  09:46:00    19930    19933   19888     19903\n1  2010-02-01  09:47:00    19903    19910   19876     19886\n2  2010-02-01  09:48:00    19887    19907   19885     19897\n3  2010-02-01  09:49:00    19897    19915   19897     19898\n4  2010-02-01  09:50:00    19900    19907   19880     19899",
      "text/html": "<div>\n<style scoped>\n    .dataframe tbody tr th:only-of-type {\n        vertical-align: middle;\n    }\n\n    .dataframe tbody tr th {\n        vertical-align: top;\n    }\n\n    .dataframe thead th {\n        text-align: right;\n    }\n</style>\n<table border=\"1\" class=\"dataframe\">\n  <thead>\n    <tr style=\"text-align: right;\">\n      <th></th>\n      <th>&lt;Date&gt;</th>\n      <th>&lt;Time&gt;</th>\n      <th>&lt;Open&gt;</th>\n      <th>&lt;High&gt;</th>\n      <th>&lt;Low&gt;</th>\n      <th>&lt;Close&gt;</th>\n    </tr>\n  </thead>\n  <tbody>\n    <tr>\n      <th>0</th>\n      <td>2010-02-01</td>\n      <td>09:46:00</td>\n      <td>19930</td>\n      <td>19933</td>\n      <td>19888</td>\n      <td>19903</td>\n    </tr>\n    <tr>\n      <th>1</th>\n      <td>2010-02-01</td>\n      <td>09:47:00</td>\n      <td>19903</td>\n      <td>19910</td>\n      <td>19876</td>\n      <td>19886</td>\n    </tr>\n    <tr>\n      <th>2</th>\n      <td>2010-02-01</td>\n      <td>09:48:00</td>\n      <td>19887</td>\n      <td>19907</td>\n      <td>19885</td>\n      <td>19897</td>\n    </tr>\n    <tr>\n      <th>3</th>\n      <td>2010-02-01</td>\n      <td>09:49:00</td>\n      <td>19897</td>\n      <td>19915</td>\n      <td>19897</td>\n      <td>19898</td>\n    </tr>\n    <tr>\n      <th>4</th>\n      <td>2010-02-01</td>\n      <td>09:50:00</td>\n      <td>19900</td>\n      <td>19907</td>\n      <td>19880</td>\n      <td>19899</td>\n    </tr>\n  </tbody>\n</table>\n</div>"
     },
     "metadata": {},
     "execution_count": 27
    }
   ],
   "source": [
    "df6.head()"
   ]
  },
  {
   "cell_type": "code",
   "execution_count": 28,
   "metadata": {},
   "outputs": [],
   "source": [
    "df6=df6.rename(columns={'<Date>':'date',' <Time>':'time', ' <Open>':'open', ' <High>':'high', ' <Low>':'low', ' <Close>':'close'})"
   ]
  },
  {
   "cell_type": "code",
   "execution_count": 29,
   "metadata": {},
   "outputs": [
    {
     "output_type": "execute_result",
     "data": {
      "text/plain": "Index(['date', 'time', 'open', 'high', 'low', 'close'], dtype='object')"
     },
     "metadata": {},
     "execution_count": 29
    }
   ],
   "source": [
    "df6.columns"
   ]
  },
  {
   "cell_type": "code",
   "execution_count": 32,
   "metadata": {},
   "outputs": [
    {
     "output_type": "execute_result",
     "data": {
      "text/plain": "Index(['date', 'time', 'open', 'high', 'low', 'close'], dtype='object')"
     },
     "metadata": {},
     "execution_count": 32
    }
   ],
   "source": [
    "df.columns"
   ]
  },
  {
   "cell_type": "code",
   "execution_count": 33,
   "metadata": {},
   "outputs": [
    {
     "output_type": "execute_result",
     "data": {
      "text/plain": "               date      time     open     high      low    close\n0        2010-02-01  09:46:00  19930.0  19933.0  19888.0  19903.0\n1        2010-02-01  09:47:00  19903.0  19910.0  19876.0  19886.0\n2        2010-02-01  09:48:00  19887.0  19907.0  19885.0  19897.0\n3        2010-02-01  09:49:00  19897.0  19915.0  19897.0  19898.0\n4        2010-02-01  09:50:00  19900.0  19907.0  19880.0  19899.0\n...             ...       ...      ...      ...      ...      ...\n1567765  2020-05-21  02:56:00  24494.0  24496.0  24484.0  24486.0\n1567766  2020-05-21  02:57:00  24489.0  24490.0  24485.0  24490.0\n1567767  2020-05-21  02:58:00  24488.0  24495.0  24488.0  24490.0\n1567768  2020-05-21  02:59:00  24491.0  24491.0  24487.0  24489.0\n1567769  2020-05-21  03:00:00  24489.0  24491.0  24483.0  24489.0\n\n[1567770 rows x 6 columns]",
      "text/html": "<div>\n<style scoped>\n    .dataframe tbody tr th:only-of-type {\n        vertical-align: middle;\n    }\n\n    .dataframe tbody tr th {\n        vertical-align: top;\n    }\n\n    .dataframe thead th {\n        text-align: right;\n    }\n</style>\n<table border=\"1\" class=\"dataframe\">\n  <thead>\n    <tr style=\"text-align: right;\">\n      <th></th>\n      <th>date</th>\n      <th>time</th>\n      <th>open</th>\n      <th>high</th>\n      <th>low</th>\n      <th>close</th>\n    </tr>\n  </thead>\n  <tbody>\n    <tr>\n      <th>0</th>\n      <td>2010-02-01</td>\n      <td>09:46:00</td>\n      <td>19930.0</td>\n      <td>19933.0</td>\n      <td>19888.0</td>\n      <td>19903.0</td>\n    </tr>\n    <tr>\n      <th>1</th>\n      <td>2010-02-01</td>\n      <td>09:47:00</td>\n      <td>19903.0</td>\n      <td>19910.0</td>\n      <td>19876.0</td>\n      <td>19886.0</td>\n    </tr>\n    <tr>\n      <th>2</th>\n      <td>2010-02-01</td>\n      <td>09:48:00</td>\n      <td>19887.0</td>\n      <td>19907.0</td>\n      <td>19885.0</td>\n      <td>19897.0</td>\n    </tr>\n    <tr>\n      <th>3</th>\n      <td>2010-02-01</td>\n      <td>09:49:00</td>\n      <td>19897.0</td>\n      <td>19915.0</td>\n      <td>19897.0</td>\n      <td>19898.0</td>\n    </tr>\n    <tr>\n      <th>4</th>\n      <td>2010-02-01</td>\n      <td>09:50:00</td>\n      <td>19900.0</td>\n      <td>19907.0</td>\n      <td>19880.0</td>\n      <td>19899.0</td>\n    </tr>\n    <tr>\n      <th>...</th>\n      <td>...</td>\n      <td>...</td>\n      <td>...</td>\n      <td>...</td>\n      <td>...</td>\n      <td>...</td>\n    </tr>\n    <tr>\n      <th>1567765</th>\n      <td>2020-05-21</td>\n      <td>02:56:00</td>\n      <td>24494.0</td>\n      <td>24496.0</td>\n      <td>24484.0</td>\n      <td>24486.0</td>\n    </tr>\n    <tr>\n      <th>1567766</th>\n      <td>2020-05-21</td>\n      <td>02:57:00</td>\n      <td>24489.0</td>\n      <td>24490.0</td>\n      <td>24485.0</td>\n      <td>24490.0</td>\n    </tr>\n    <tr>\n      <th>1567767</th>\n      <td>2020-05-21</td>\n      <td>02:58:00</td>\n      <td>24488.0</td>\n      <td>24495.0</td>\n      <td>24488.0</td>\n      <td>24490.0</td>\n    </tr>\n    <tr>\n      <th>1567768</th>\n      <td>2020-05-21</td>\n      <td>02:59:00</td>\n      <td>24491.0</td>\n      <td>24491.0</td>\n      <td>24487.0</td>\n      <td>24489.0</td>\n    </tr>\n    <tr>\n      <th>1567769</th>\n      <td>2020-05-21</td>\n      <td>03:00:00</td>\n      <td>24489.0</td>\n      <td>24491.0</td>\n      <td>24483.0</td>\n      <td>24489.0</td>\n    </tr>\n  </tbody>\n</table>\n<p>1567770 rows × 6 columns</p>\n</div>"
     },
     "metadata": {},
     "execution_count": 33
    }
   ],
   "source": [
    "df7=df6.append(df,ignore_index = True)\n",
    "df7.head()"
   ]
  },
  {
   "cell_type": "code",
   "execution_count": 74,
   "metadata": {},
   "outputs": [],
   "source": [
    "df8=df7.copy()"
   ]
  },
  {
   "cell_type": "code",
   "execution_count": 75,
   "metadata": {},
   "outputs": [],
   "source": [
    "df8['date']=df8['date']+' '+df8['time']"
   ]
  },
  {
   "cell_type": "code",
   "execution_count": 77,
   "metadata": {},
   "outputs": [],
   "source": [
    "df8=df8.drop(['time'],axis=1)"
   ]
  },
  {
   "cell_type": "code",
   "execution_count": 78,
   "metadata": {},
   "outputs": [
    {
     "output_type": "execute_result",
     "data": {
      "text/plain": "                  date     open     high      low    close\n0  2010-02-01 09:46:00  19930.0  19933.0  19888.0  19903.0\n1  2010-02-01 09:47:00  19903.0  19910.0  19876.0  19886.0\n2  2010-02-01 09:48:00  19887.0  19907.0  19885.0  19897.0\n3  2010-02-01 09:49:00  19897.0  19915.0  19897.0  19898.0\n4  2010-02-01 09:50:00  19900.0  19907.0  19880.0  19899.0",
      "text/html": "<div>\n<style scoped>\n    .dataframe tbody tr th:only-of-type {\n        vertical-align: middle;\n    }\n\n    .dataframe tbody tr th {\n        vertical-align: top;\n    }\n\n    .dataframe thead th {\n        text-align: right;\n    }\n</style>\n<table border=\"1\" class=\"dataframe\">\n  <thead>\n    <tr style=\"text-align: right;\">\n      <th></th>\n      <th>date</th>\n      <th>open</th>\n      <th>high</th>\n      <th>low</th>\n      <th>close</th>\n    </tr>\n  </thead>\n  <tbody>\n    <tr>\n      <th>0</th>\n      <td>2010-02-01 09:46:00</td>\n      <td>19930.0</td>\n      <td>19933.0</td>\n      <td>19888.0</td>\n      <td>19903.0</td>\n    </tr>\n    <tr>\n      <th>1</th>\n      <td>2010-02-01 09:47:00</td>\n      <td>19903.0</td>\n      <td>19910.0</td>\n      <td>19876.0</td>\n      <td>19886.0</td>\n    </tr>\n    <tr>\n      <th>2</th>\n      <td>2010-02-01 09:48:00</td>\n      <td>19887.0</td>\n      <td>19907.0</td>\n      <td>19885.0</td>\n      <td>19897.0</td>\n    </tr>\n    <tr>\n      <th>3</th>\n      <td>2010-02-01 09:49:00</td>\n      <td>19897.0</td>\n      <td>19915.0</td>\n      <td>19897.0</td>\n      <td>19898.0</td>\n    </tr>\n    <tr>\n      <th>4</th>\n      <td>2010-02-01 09:50:00</td>\n      <td>19900.0</td>\n      <td>19907.0</td>\n      <td>19880.0</td>\n      <td>19899.0</td>\n    </tr>\n  </tbody>\n</table>\n</div>"
     },
     "metadata": {},
     "execution_count": 78
    }
   ],
   "source": [
    "df8.head()"
   ]
  },
  {
   "cell_type": "code",
   "execution_count": 79,
   "metadata": {},
   "outputs": [],
   "source": [
    "df8.to_csv('C:\\\\Users\\likaw\\Documents\\GitHub\\data-science\\HSI\\ProccessedData\\hsi future 1M combined from youtube futu.csv',index=False)"
   ]
  },
  {
   "cell_type": "code",
   "execution_count": null,
   "metadata": {},
   "outputs": [],
   "source": []
  }
 ],
 "metadata": {
  "language_info": {
   "codemirror_mode": {
    "name": "ipython",
    "version": 3
   },
   "file_extension": ".py",
   "mimetype": "text/x-python",
   "name": "python",
   "nbconvert_exporter": "python",
   "pygments_lexer": "ipython3",
   "version": "3.7.6-final"
  },
  "orig_nbformat": 2,
  "kernelspec": {
   "name": "python3",
   "display_name": "Python 3"
  }
 },
 "nbformat": 4,
 "nbformat_minor": 2
}