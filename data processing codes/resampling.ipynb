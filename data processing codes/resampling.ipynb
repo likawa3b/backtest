{
 "cells": [
  {
   "cell_type": "code",
   "execution_count": 2,
   "metadata": {},
   "outputs": [],
   "source": [
    "import pandas as pd "
   ]
  },
  {
   "cell_type": "code",
   "execution_count": 9,
   "metadata": {},
   "outputs": [],
   "source": [
    "df=pd.read_csv('C:\\\\Users\\likaw\\Documents\\GitHub\\data-science\\HSI\\ProccessedData\\hsi future 1M combined from youtube futu.csv',index_col=0,parse_dates=True)"
   ]
  },
  {
   "cell_type": "code",
   "execution_count": 10,
   "metadata": {},
   "outputs": [
    {
     "output_type": "execute_result",
     "data": {
      "text/plain": "                        open     high      low    close\ndate                                                   \n2010-02-01 09:46:00  19930.0  19933.0  19888.0  19903.0\n2010-02-01 09:47:00  19903.0  19910.0  19876.0  19886.0\n2010-02-01 09:48:00  19887.0  19907.0  19885.0  19897.0\n2010-02-01 09:49:00  19897.0  19915.0  19897.0  19898.0\n2010-02-01 09:50:00  19900.0  19907.0  19880.0  19899.0",
      "text/html": "<div>\n<style scoped>\n    .dataframe tbody tr th:only-of-type {\n        vertical-align: middle;\n    }\n\n    .dataframe tbody tr th {\n        vertical-align: top;\n    }\n\n    .dataframe thead th {\n        text-align: right;\n    }\n</style>\n<table border=\"1\" class=\"dataframe\">\n  <thead>\n    <tr style=\"text-align: right;\">\n      <th></th>\n      <th>open</th>\n      <th>high</th>\n      <th>low</th>\n      <th>close</th>\n    </tr>\n    <tr>\n      <th>date</th>\n      <th></th>\n      <th></th>\n      <th></th>\n      <th></th>\n    </tr>\n  </thead>\n  <tbody>\n    <tr>\n      <th>2010-02-01 09:46:00</th>\n      <td>19930.0</td>\n      <td>19933.0</td>\n      <td>19888.0</td>\n      <td>19903.0</td>\n    </tr>\n    <tr>\n      <th>2010-02-01 09:47:00</th>\n      <td>19903.0</td>\n      <td>19910.0</td>\n      <td>19876.0</td>\n      <td>19886.0</td>\n    </tr>\n    <tr>\n      <th>2010-02-01 09:48:00</th>\n      <td>19887.0</td>\n      <td>19907.0</td>\n      <td>19885.0</td>\n      <td>19897.0</td>\n    </tr>\n    <tr>\n      <th>2010-02-01 09:49:00</th>\n      <td>19897.0</td>\n      <td>19915.0</td>\n      <td>19897.0</td>\n      <td>19898.0</td>\n    </tr>\n    <tr>\n      <th>2010-02-01 09:50:00</th>\n      <td>19900.0</td>\n      <td>19907.0</td>\n      <td>19880.0</td>\n      <td>19899.0</td>\n    </tr>\n  </tbody>\n</table>\n</div>"
     },
     "metadata": {},
     "execution_count": 10
    }
   ],
   "source": [
    "df.head()"
   ]
  },
  {
   "cell_type": "code",
   "execution_count": 17,
   "metadata": {},
   "outputs": [],
   "source": [
    "df2=df.copy()"
   ]
  },
  {
   "cell_type": "code",
   "execution_count": 18,
   "metadata": {},
   "outputs": [],
   "source": [
    "df2=df2.resample('1H').agg({'open':'first','high':'max','low':'min','close':'last'}).dropna()"
   ]
  },
  {
   "cell_type": "code",
   "execution_count": 19,
   "metadata": {},
   "outputs": [
    {
     "output_type": "execute_result",
     "data": {
      "text/plain": "                        open     high      low    close\ndate                                                   \n2010-02-01 09:00:00  19930.0  19933.0  19866.0  19919.0\n2010-02-01 10:00:00  19920.0  19995.0  19817.0  19925.0\n2010-02-01 11:00:00  19927.0  19934.0  19795.0  19851.0\n2010-02-01 12:00:00  19848.0  19985.0  19830.0  19968.0\n2010-02-01 14:00:00  19968.0  20149.0  19968.0  20110.0\n...                      ...      ...      ...      ...\n2020-05-20 23:00:00  24578.0  24640.0  24564.0  24568.0\n2020-05-21 00:00:00  24568.0  24584.0  24453.0  24472.0\n2020-05-21 01:00:00  24468.0  24485.0  24377.0  24439.0\n2020-05-21 02:00:00  24439.0  24496.0  24430.0  24489.0\n2020-05-21 03:00:00  24489.0  24491.0  24483.0  24489.0\n\n[33565 rows x 4 columns]",
      "text/html": "<div>\n<style scoped>\n    .dataframe tbody tr th:only-of-type {\n        vertical-align: middle;\n    }\n\n    .dataframe tbody tr th {\n        vertical-align: top;\n    }\n\n    .dataframe thead th {\n        text-align: right;\n    }\n</style>\n<table border=\"1\" class=\"dataframe\">\n  <thead>\n    <tr style=\"text-align: right;\">\n      <th></th>\n      <th>open</th>\n      <th>high</th>\n      <th>low</th>\n      <th>close</th>\n    </tr>\n    <tr>\n      <th>date</th>\n      <th></th>\n      <th></th>\n      <th></th>\n      <th></th>\n    </tr>\n  </thead>\n  <tbody>\n    <tr>\n      <th>2010-02-01 09:00:00</th>\n      <td>19930.0</td>\n      <td>19933.0</td>\n      <td>19866.0</td>\n      <td>19919.0</td>\n    </tr>\n    <tr>\n      <th>2010-02-01 10:00:00</th>\n      <td>19920.0</td>\n      <td>19995.0</td>\n      <td>19817.0</td>\n      <td>19925.0</td>\n    </tr>\n    <tr>\n      <th>2010-02-01 11:00:00</th>\n      <td>19927.0</td>\n      <td>19934.0</td>\n      <td>19795.0</td>\n      <td>19851.0</td>\n    </tr>\n    <tr>\n      <th>2010-02-01 12:00:00</th>\n      <td>19848.0</td>\n      <td>19985.0</td>\n      <td>19830.0</td>\n      <td>19968.0</td>\n    </tr>\n    <tr>\n      <th>2010-02-01 14:00:00</th>\n      <td>19968.0</td>\n      <td>20149.0</td>\n      <td>19968.0</td>\n      <td>20110.0</td>\n    </tr>\n    <tr>\n      <th>...</th>\n      <td>...</td>\n      <td>...</td>\n      <td>...</td>\n      <td>...</td>\n    </tr>\n    <tr>\n      <th>2020-05-20 23:00:00</th>\n      <td>24578.0</td>\n      <td>24640.0</td>\n      <td>24564.0</td>\n      <td>24568.0</td>\n    </tr>\n    <tr>\n      <th>2020-05-21 00:00:00</th>\n      <td>24568.0</td>\n      <td>24584.0</td>\n      <td>24453.0</td>\n      <td>24472.0</td>\n    </tr>\n    <tr>\n      <th>2020-05-21 01:00:00</th>\n      <td>24468.0</td>\n      <td>24485.0</td>\n      <td>24377.0</td>\n      <td>24439.0</td>\n    </tr>\n    <tr>\n      <th>2020-05-21 02:00:00</th>\n      <td>24439.0</td>\n      <td>24496.0</td>\n      <td>24430.0</td>\n      <td>24489.0</td>\n    </tr>\n    <tr>\n      <th>2020-05-21 03:00:00</th>\n      <td>24489.0</td>\n      <td>24491.0</td>\n      <td>24483.0</td>\n      <td>24489.0</td>\n    </tr>\n  </tbody>\n</table>\n<p>33565 rows × 4 columns</p>\n</div>"
     },
     "metadata": {},
     "execution_count": 19
    }
   ],
   "source": [
    "df2"
   ]
  },
  {
   "cell_type": "code",
   "execution_count": 23,
   "metadata": {},
   "outputs": [],
   "source": [
    "df3=pd.read_csv('C:\\\\Users\\likaw\\Documents\\GitHub\\data-science\\HSI\\ProccessedData\\hsi future 60M resampled.csv',index_col=0,parse_dates=True)"
   ]
  },
  {
   "cell_type": "code",
   "execution_count": 24,
   "metadata": {},
   "outputs": [
    {
     "output_type": "execute_result",
     "data": {
      "text/plain": "                      <Open>   <High>    <Low>  <Close>\nDate                                                   \n2010-02-01 09:00:00  19930.0  19933.0  19866.0  19919.0\n2010-02-01 10:00:00  19920.0  19995.0  19817.0  19925.0\n2010-02-01 11:00:00  19927.0  19934.0  19795.0  19851.0\n2010-02-01 12:00:00  19848.0  19985.0  19830.0  19968.0\n2010-02-01 14:00:00  19968.0  20149.0  19968.0  20110.0\n...                      ...      ...      ...      ...\n2020-05-22 23:00:00  22860.0  22898.0  22841.0  22862.0\n2020-05-23 00:00:00  22860.0  22872.0  22819.0  22819.0\n2020-05-23 01:00:00  22818.0  22838.0  22792.0  22811.0\n2020-05-23 02:00:00  22814.0  22835.0  22780.0  22796.0\n2020-05-23 03:00:00  22798.0  22800.0  22796.0  22797.0\n\n[33603 rows x 4 columns]",
      "text/html": "<div>\n<style scoped>\n    .dataframe tbody tr th:only-of-type {\n        vertical-align: middle;\n    }\n\n    .dataframe tbody tr th {\n        vertical-align: top;\n    }\n\n    .dataframe thead th {\n        text-align: right;\n    }\n</style>\n<table border=\"1\" class=\"dataframe\">\n  <thead>\n    <tr style=\"text-align: right;\">\n      <th></th>\n      <th>&lt;Open&gt;</th>\n      <th>&lt;High&gt;</th>\n      <th>&lt;Low&gt;</th>\n      <th>&lt;Close&gt;</th>\n    </tr>\n    <tr>\n      <th>Date</th>\n      <th></th>\n      <th></th>\n      <th></th>\n      <th></th>\n    </tr>\n  </thead>\n  <tbody>\n    <tr>\n      <th>2010-02-01 09:00:00</th>\n      <td>19930.0</td>\n      <td>19933.0</td>\n      <td>19866.0</td>\n      <td>19919.0</td>\n    </tr>\n    <tr>\n      <th>2010-02-01 10:00:00</th>\n      <td>19920.0</td>\n      <td>19995.0</td>\n      <td>19817.0</td>\n      <td>19925.0</td>\n    </tr>\n    <tr>\n      <th>2010-02-01 11:00:00</th>\n      <td>19927.0</td>\n      <td>19934.0</td>\n      <td>19795.0</td>\n      <td>19851.0</td>\n    </tr>\n    <tr>\n      <th>2010-02-01 12:00:00</th>\n      <td>19848.0</td>\n      <td>19985.0</td>\n      <td>19830.0</td>\n      <td>19968.0</td>\n    </tr>\n    <tr>\n      <th>2010-02-01 14:00:00</th>\n      <td>19968.0</td>\n      <td>20149.0</td>\n      <td>19968.0</td>\n      <td>20110.0</td>\n    </tr>\n    <tr>\n      <th>...</th>\n      <td>...</td>\n      <td>...</td>\n      <td>...</td>\n      <td>...</td>\n    </tr>\n    <tr>\n      <th>2020-05-22 23:00:00</th>\n      <td>22860.0</td>\n      <td>22898.0</td>\n      <td>22841.0</td>\n      <td>22862.0</td>\n    </tr>\n    <tr>\n      <th>2020-05-23 00:00:00</th>\n      <td>22860.0</td>\n      <td>22872.0</td>\n      <td>22819.0</td>\n      <td>22819.0</td>\n    </tr>\n    <tr>\n      <th>2020-05-23 01:00:00</th>\n      <td>22818.0</td>\n      <td>22838.0</td>\n      <td>22792.0</td>\n      <td>22811.0</td>\n    </tr>\n    <tr>\n      <th>2020-05-23 02:00:00</th>\n      <td>22814.0</td>\n      <td>22835.0</td>\n      <td>22780.0</td>\n      <td>22796.0</td>\n    </tr>\n    <tr>\n      <th>2020-05-23 03:00:00</th>\n      <td>22798.0</td>\n      <td>22800.0</td>\n      <td>22796.0</td>\n      <td>22797.0</td>\n    </tr>\n  </tbody>\n</table>\n<p>33603 rows × 4 columns</p>\n</div>"
     },
     "metadata": {},
     "execution_count": 24
    }
   ],
   "source": [
    "df3"
   ]
  },
  {
   "cell_type": "code",
   "execution_count": null,
   "metadata": {},
   "outputs": [],
   "source": []
  }
 ],
 "metadata": {
  "language_info": {
   "codemirror_mode": {
    "name": "ipython",
    "version": 3
   },
   "file_extension": ".py",
   "mimetype": "text/x-python",
   "name": "python",
   "nbconvert_exporter": "python",
   "pygments_lexer": "ipython3",
   "version": "3.7.6-final"
  },
  "orig_nbformat": 2,
  "kernelspec": {
   "name": "python3",
   "display_name": "Python 3"
  }
 },
 "nbformat": 4,
 "nbformat_minor": 2
}